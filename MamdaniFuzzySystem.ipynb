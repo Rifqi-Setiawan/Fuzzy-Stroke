{
 "cells": [
  {
   "cell_type": "code",
   "execution_count": 7,
   "id": "5edd187a",
   "metadata": {},
   "outputs": [],
   "source": [
    "import pandas as pd\n",
    "import numpy as np"
   ]
  },
  {
   "cell_type": "code",
   "execution_count": 8,
   "id": "6405a353",
   "metadata": {},
   "outputs": [],
   "source": [
    "# Fungsi Keanggotaan Umum\n",
    "def fungsi_segitiga(x, a, b, c):\n",
    "    if x <= a or x >= c:\n",
    "        return 0\n",
    "    elif a < x < b:\n",
    "        return (x - a) / (b - a)\n",
    "    elif b <= x < c:\n",
    "        return (c - x) / (c - b)\n",
    "    else:\n",
    "        return 0\n",
    "\n",
    "\n",
    "def fungsi_trapesium(x, a, b, c, d):\n",
    "    if x <= a or x >= d:\n",
    "        return 0\n",
    "    elif a < x < b:\n",
    "        return (x - a) / (b - a) if b != a else 1\n",
    "    elif b <= x <= c:\n",
    "        return 1\n",
    "    elif c < x < d:\n",
    "        return (d - x) / (d - c) if d != c else 1\n",
    "    else:\n",
    "        return 0"
   ]
  },
  {
   "cell_type": "code",
   "execution_count": 9,
   "id": "46ea2b6b",
   "metadata": {},
   "outputs": [],
   "source": [
    "# Fuzifikasi untuk setiap variabel input\n",
    "def fuzzify_age(age_val):\n",
    "    return {\n",
    "        'Muda': fungsi_trapesium(age_val, 0, 0, 30, 40),\n",
    "        'ParuhBaya': fungsi_segitiga(age_val, 30, 45, 60),\n",
    "        'Tua': fungsi_trapesium(age_val, 50, 65, 100, 100)\n",
    "    }\n",
    "\n",
    "def fuzzify_glucose(glucose_val):\n",
    "    return {\n",
    "        'Normal': fungsi_trapesium(glucose_val, 50, 50, 100, 120),\n",
    "        'Tinggi': fungsi_trapesium(glucose_val, 100, 140, 280, 280)\n",
    "    }\n",
    "\n",
    "def fuzzify_bmi(bmi_val):\n",
    "    return {\n",
    "        'Normal': fungsi_trapesium(bmi_val, 18, 18, 25, 30),\n",
    "        'Berlebih': fungsi_trapesium(bmi_val, 25, 30, 50, 50)\n",
    "    }"
   ]
  },
  {
   "cell_type": "code",
   "execution_count": 10,
   "id": "bcac8f69",
   "metadata": {},
   "outputs": [],
   "source": [
    "# Output Linguistik dan Fungsi Keanggotaan Output\n",
    "def fuzzify_output(x):\n",
    "    return {\n",
    "        'Rendah': fungsi_trapesium(x, 0, 0, 0.2, 0.4),\n",
    "        'Sedang': fungsi_segitiga(x, 0.3, 0.5, 0.7),\n",
    "        'Tinggi': fungsi_trapesium(x, 0.6, 0.8, 1, 1)\n",
    "    }"
   ]
  },
  {
   "cell_type": "code",
   "execution_count": null,
   "id": "1ec7d502",
   "metadata": {},
   "outputs": [],
   "source": [
    "# Aturan Fuzzy Mamdani\n",
    "def apply_rules_mamdani(age_fuzzy, glucose_fuzzy, bmi_fuzzy):\n",
    "    rules = [\n",
    "        ('Tua', 'Tinggi', 'Berlebih', 'Tinggi'),\n",
    "        ('Tua', 'Tinggi', 'Normal', 'Tinggi'),\n",
    "        ('Tua', 'Normal', 'Berlebih', 'Tinggi'),\n",
    "        ('ParuhBaya', 'Tinggi', 'Berlebih', 'Tinggi'),\n",
    "        ('ParuhBaya', 'Tinggi', 'Normal', 'Sedang'),\n",
    "        ('ParuhBaya', 'Normal', 'Berlebih', 'Sedang'),\n",
    "        ('Tua', 'Normal', 'Normal', 'Sedang'),\n",
    "        ('Muda', 'Tinggi', 'Berlebih', 'Sedang'),\n",
    "        ('Muda', 'Tinggi', 'Normal', 'Sedang'),\n",
    "        ('Muda', 'Normal', 'Berlebih', 'Sedang'),\n",
    "        ('ParuhBaya', 'Normal', 'Normal', 'Rendah'),\n",
    "        ('Muda', 'Normal', 'Normal', 'Rendah'),\n",
    "    ]\n",
    "    output_membership = {'Rendah': [], 'Sedang': [], 'Tinggi': []}\n",
    "    for age_label, glucose_label, bmi_label, out_label in rules:\n",
    "        w = min(age_fuzzy[age_label], glucose_fuzzy[glucose_label], bmi_fuzzy[bmi_label])\n",
    "        output_membership[out_label].append(w)\n",
    "    return {k: max(v) if v else 0 for k, v in output_membership.items()}"
   ]
  },
  {
   "cell_type": "code",
   "execution_count": 12,
   "id": "60f7af92",
   "metadata": {},
   "outputs": [],
   "source": [
    "# Defuzzifikasi Mamdani\n",
    "def defuzzify_mamdani(output_membership):\n",
    "    x = np.linspace(0, 1, 101)\n",
    "    aggregated = np.zeros_like(x)\n",
    "    for label, degree in output_membership.items():\n",
    "        mf = np.array([fuzzify_output(xi)[label] for xi in x])\n",
    "        aggregated = np.maximum(aggregated, np.minimum(degree, mf))\n",
    "    if aggregated.sum() == 0:\n",
    "        return 0\n",
    "    return np.sum(x * aggregated) / np.sum(aggregated)"
   ]
  },
  {
   "cell_type": "code",
   "execution_count": 13,
   "id": "097d11eb",
   "metadata": {},
   "outputs": [],
   "source": [
    "# Prediksi satu baris\n",
    "def predict_stroke_risk_mamdani(input_data):\n",
    "    age_fuzzy = fuzzify_age(input_data['age'])\n",
    "    glucose_fuzzy = fuzzify_glucose(input_data['avg_glucose_level'])\n",
    "    bmi_fuzzy = fuzzify_bmi(input_data['bmi'])\n",
    "    output_membership = apply_rules_mamdani(age_fuzzy, glucose_fuzzy, bmi_fuzzy)\n",
    "    return defuzzify_mamdani(output_membership)"
   ]
  },
  {
   "cell_type": "markdown",
   "id": "d1928319",
   "metadata": {},
   "source": [
    "# Uji Evaluasi Model Mamdani"
   ]
  },
  {
   "cell_type": "code",
   "execution_count": null,
   "id": "6807c63c",
   "metadata": {},
   "outputs": [
    {
     "name": "stdout",
     "output_type": "stream",
     "text": [
      "=== Evaluasi Fuzzy Mamdani ===\n",
      "Akurasi   : 0.5255\n",
      "F1-score  : 0.1459\n",
      "Precision : 0.0800\n",
      "Recall    : 0.8313\n"
     ]
    }
   ],
   "source": [
    "from sklearn.metrics import accuracy_score, f1_score, precision_score, recall_score\n",
    "\n",
    "# Load dataset yang telah diproses\n",
    "df = pd.read_csv('stroke_preprocessed_for_fuzzy.csv')\n",
    "\n",
    "def predict_row(row):\n",
    "    input_data = {\n",
    "        'age': row['age'],\n",
    "        'avg_glucose_level': row['avg_glucose_level'],\n",
    "        'bmi': row['bmi']\n",
    "    }\n",
    "    return predict_stroke_risk_mamdani(input_data)\n",
    "\n",
    "# Menghitung skor risiko stroke menggunakan Fuzzy Mamdani\n",
    "df['mamdani_risk_score'] = df.apply(predict_row, axis=1)\n",
    "\n",
    "# Menggunakan threshold 0.5 untuk klasifikasi\n",
    "df['mamdani_pred'] = (df['mamdani_risk_score'] >= 0.5).astype(int)\n",
    "\n",
    "# Mengambil label target dari dataset sebenarnya dan hasil prediksi\n",
    "y_true = df['stroke']\n",
    "y_pred = df['mamdani_pred']\n",
    "\n",
    "# Evaluasi model\n",
    "acc = accuracy_score(y_true, y_pred)\n",
    "f1 = f1_score(y_true, y_pred)\n",
    "precision = precision_score(y_true, y_pred)\n",
    "recall = recall_score(y_true, y_pred)\n",
    "\n",
    "print(\"=== Evaluasi Fuzzy Mamdani ===\")\n",
    "print(f\"Akurasi   : {acc:.4f}\")\n",
    "print(f\"F1-score  : {f1:.4f}\")\n",
    "print(f\"Precision : {precision:.4f}\")\n",
    "print(f\"Recall    : {recall:.4f}\")"
   ]
  },
  {
   "cell_type": "code",
   "execution_count": null,
   "id": "d790c92d",
   "metadata": {},
   "outputs": [],
   "source": []
  }
 ],
 "metadata": {
  "kernelspec": {
   "display_name": "base",
   "language": "python",
   "name": "python3"
  },
  "language_info": {
   "codemirror_mode": {
    "name": "ipython",
    "version": 3
   },
   "file_extension": ".py",
   "mimetype": "text/x-python",
   "name": "python",
   "nbconvert_exporter": "python",
   "pygments_lexer": "ipython3",
   "version": "3.12.7"
  }
 },
 "nbformat": 4,
 "nbformat_minor": 5
}
