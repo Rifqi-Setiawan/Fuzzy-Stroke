{
 "cells": [
  {
   "cell_type": "code",
   "execution_count": 7,
   "id": "5edd187a",
   "metadata": {},
   "outputs": [],
   "source": [
    "import pandas as pd\n",
    "import numpy as np"
   ]
  },
  {
   "cell_type": "code",
   "execution_count": 8,
   "id": "6405a353",
   "metadata": {},
   "outputs": [],
   "source": [
    "# Fungsi Keanggotaan Umum\n",
    "def fungsi_segitiga(x, a, b, c):\n",
    "    if x <= a or x >= c:\n",
    "        return 0\n",
    "    elif a < x < b:\n",
    "        return (x - a) / (b - a)\n",
    "    elif b <= x < c:\n",
    "        return (c - x) / (c - b)\n",
    "    else:\n",
    "        return 0\n",
    "\n",
    "\n",
    "def fungsi_trapesium(x, a, b, c, d):\n",
    "    if x <= a or x >= d:\n",
    "        return 0\n",
    "    elif a < x < b:\n",
    "        return (x - a) / (b - a) if b != a else 1\n",
    "    elif b <= x <= c:\n",
    "        return 1\n",
    "    elif c < x < d:\n",
    "        return (d - x) / (d - c) if d != c else 1\n",
    "    else:\n",
    "        return 0"
   ]
  },
  {
   "cell_type": "code",
   "execution_count": 9,
   "id": "46ea2b6b",
   "metadata": {},
   "outputs": [],
   "source": [
    "# Fuzifikasi untuk setiap variabel input\n",
    "def fuzzify_age(age_val):\n",
    "    return {\n",
    "        'Muda': fungsi_trapesium(age_val, 0, 0, 30, 40),\n",
    "        'ParuhBaya': fungsi_segitiga(age_val, 30, 45, 60),\n",
    "        'Tua': fungsi_trapesium(age_val, 50, 65, 100, 100)\n",
    "    }\n",
    "\n",
    "def fuzzify_glucose(glucose_val):\n",
    "    return {\n",
    "        'Normal': fungsi_trapesium(glucose_val, 50, 50, 100, 120),\n",
    "        'Tinggi': fungsi_trapesium(glucose_val, 100, 140, 280, 280)\n",
    "    }\n",
    "\n",
    "def fuzzify_bmi(bmi_val):\n",
    "    return {\n",
    "        'Normal': fungsi_trapesium(bmi_val, 18, 18, 25, 30),\n",
    "        'Berlebih': fungsi_trapesium(bmi_val, 25, 30, 50, 50)\n",
    "    }"
   ]
  },
  {
   "cell_type": "code",
   "execution_count": 10,
   "id": "bcac8f69",
   "metadata": {},
   "outputs": [],
   "source": [
    "# Output Linguistik dan Fungsi Keanggotaan Output\n",
    "def fuzzify_output(x):\n",
    "    return {\n",
    "        'Rendah': fungsi_trapesium(x, 0, 0, 0.2, 0.4),\n",
    "        'Sedang': fungsi_segitiga(x, 0.3, 0.5, 0.7),\n",
    "        'Tinggi': fungsi_trapesium(x, 0.6, 0.8, 1, 1)\n",
    "    }"
   ]
  },
  {
   "cell_type": "code",
   "execution_count": null,
   "id": "1ec7d502",
   "metadata": {},
   "outputs": [],
   "source": [
    "# Aturan Fuzzy Mamdani\n",
    "def apply_rules_mamdani(age_fuzzy, glucose_fuzzy, bmi_fuzzy):\n",
    "    rules = [\n",
    "        ('Tua', 'Tinggi', 'Berlebih', 'Tinggi'),\n",
    "        ('Tua', 'Tinggi', 'Normal', 'Tinggi'),\n",
    "        ('Tua', 'Normal', 'Berlebih', 'Tinggi'),\n",
    "        ('ParuhBaya', 'Tinggi', 'Berlebih', 'Tinggi'),\n",
    "        ('ParuhBaya', 'Tinggi', 'Normal', 'Sedang'),\n",
    "        ('ParuhBaya', 'Normal', 'Berlebih', 'Sedang'),\n",
    "        ('Tua', 'Normal', 'Normal', 'Sedang'),\n",
    "        ('Muda', 'Tinggi', 'Berlebih', 'Sedang'),\n",
    "        ('Muda', 'Tinggi', 'Normal', 'Sedang'),\n",
    "        ('Muda', 'Normal', 'Berlebih', 'Sedang'),\n",
    "        ('ParuhBaya', 'Normal', 'Normal', 'Rendah'),\n",
    "        ('Muda', 'Normal', 'Normal', 'Rendah'),\n",
    "    ]\n",
    "    output_membership = {'Rendah': [], 'Sedang': [], 'Tinggi': []}\n",
    "    for age_label, glucose_label, bmi_label, out_label in rules:\n",
    "        w = min(age_fuzzy[age_label], glucose_fuzzy[glucose_label], bmi_fuzzy[bmi_label])\n",
    "        output_membership[out_label].append(w)\n",
    "    return {k: max(v) if v else 0 for k, v in output_membership.items()}"
   ]
  },
  {
   "cell_type": "code",
   "execution_count": 12,
   "id": "60f7af92",
   "metadata": {},
   "outputs": [],
   "source": [
    "# Defuzzifikasi Mamdani\n",
    "def defuzzify_mamdani(output_membership):\n",
    "    x = np.linspace(0, 1, 101)\n",
    "    aggregated = np.zeros_like(x)\n",
    "    for label, degree in output_membership.items():\n",
    "        mf = np.array([fuzzify_output(xi)[label] for xi in x])\n",
    "        aggregated = np.maximum(aggregated, np.minimum(degree, mf))\n",
    "    if aggregated.sum() == 0:\n",
    "        return 0\n",
    "    return np.sum(x * aggregated) / np.sum(aggregated)"
   ]
  },
  {
   "cell_type": "code",
   "execution_count": 13,
   "id": "097d11eb",
   "metadata": {},
   "outputs": [],
   "source": [
    "# Prediksi satu baris\n",
    "def predict_stroke_risk_mamdani(input_data):\n",
    "    age_fuzzy = fuzzify_age(input_data['age'])\n",
    "    glucose_fuzzy = fuzzify_glucose(input_data['avg_glucose_level'])\n",
    "    bmi_fuzzy = fuzzify_bmi(input_data['bmi'])\n",
    "    output_membership = apply_rules_mamdani(age_fuzzy, glucose_fuzzy, bmi_fuzzy)\n",
    "    return defuzzify_mamdani(output_membership)"
   ]
  },
  {
   "cell_type": "code",
   "execution_count": 14,
   "id": "6807c63c",
   "metadata": {},
   "outputs": [],
   "source": [
    "# Load dataset yang telah diproses\n",
    "df = pd.read_csv('stroke_preprocessed_for_fuzzy.csv')"
   ]
  },
  {
   "cell_type": "code",
   "execution_count": 15,
   "id": "1675699f",
   "metadata": {},
   "outputs": [],
   "source": [
    "def predict_row(row):\n",
    "    input_data = {\n",
    "        'age': row['age'],\n",
    "        'avg_glucose_level': row['avg_glucose_level'],\n",
    "        'bmi': row['bmi']\n",
    "    }\n",
    "    return predict_stroke_risk_mamdani(input_data)"
   ]
  },
  {
   "cell_type": "code",
   "execution_count": 16,
   "id": "dfd5b127",
   "metadata": {},
   "outputs": [],
   "source": [
    "df['mamdani_risk_score'] = df.apply(predict_row, axis=1)\n",
    "df['mamdani_pred'] = (df['mamdani_risk_score'] >= 0.5).astype(int)"
   ]
  },
  {
   "cell_type": "code",
   "execution_count": 17,
   "id": "af7eef02",
   "metadata": {},
   "outputs": [],
   "source": [
    "# Evaluasi\n",
    "y_true = df['stroke']\n",
    "y_pred = df['mamdani_pred']"
   ]
  },
  {
   "cell_type": "code",
   "execution_count": 18,
   "id": "45d4899b",
   "metadata": {},
   "outputs": [
    {
     "name": "stdout",
     "output_type": "stream",
     "text": [
      "=== Evaluasi Fuzzy Mamdani ===\n",
      "Akurasi  : 0.5255\n",
      "F1-score : 0.1459\n"
     ]
    }
   ],
   "source": [
    "# Hitung akurasi dan F1-score manual\n",
    "def accuracy(y_true, y_pred):\n",
    "    return np.mean(np.array(y_true) == np.array(y_pred))\n",
    "\n",
    "def f1_score_manual(y_true, y_pred):\n",
    "    tp = sum((y_true == 1) & (y_pred == 1))\n",
    "    fp = sum((y_true == 0) & (y_pred == 1))\n",
    "    fn = sum((y_true == 1) & (y_pred == 0))\n",
    "    if tp + fp == 0 or tp + fn == 0:\n",
    "        return 0\n",
    "    precision = tp / (tp + fp)\n",
    "    recall = tp / (tp + fn)\n",
    "    if precision + recall == 0:\n",
    "        return 0\n",
    "    return 2 * precision * recall / (precision + recall)\n",
    "\n",
    "acc = accuracy(y_true, y_pred)\n",
    "f1 = f1_score_manual(np.array(y_true), np.array(y_pred))\n",
    "\n",
    "print(\"=== Evaluasi Fuzzy Mamdani ===\")\n",
    "print(f\"Akurasi  : {acc:.4f}\")\n",
    "print(f\"F1-score : {f1:.4f}\")"
   ]
  },
  {
   "cell_type": "code",
   "execution_count": null,
   "id": "e8221d27",
   "metadata": {},
   "outputs": [],
   "source": []
  }
 ],
 "metadata": {
  "kernelspec": {
   "display_name": "base",
   "language": "python",
   "name": "python3"
  },
  "language_info": {
   "codemirror_mode": {
    "name": "ipython",
    "version": 3
   },
   "file_extension": ".py",
   "mimetype": "text/x-python",
   "name": "python",
   "nbconvert_exporter": "python",
   "pygments_lexer": "ipython3",
   "version": "3.12.7"
  }
 },
 "nbformat": 4,
 "nbformat_minor": 5
}
