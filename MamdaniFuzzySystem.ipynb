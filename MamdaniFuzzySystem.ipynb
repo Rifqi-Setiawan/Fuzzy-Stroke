{
 "cells": [
  {
   "cell_type": "code",
   "execution_count": 9,
   "id": "5edd187a",
   "metadata": {},
   "outputs": [],
   "source": [
    "import pandas as pd\n",
    "import numpy as np"
   ]
  },
  {
   "cell_type": "code",
   "execution_count": 10,
   "id": "6405a353",
   "metadata": {},
   "outputs": [],
   "source": [
    "# Fungsi Keanggotaan Umum\n",
    "def fungsi_segitiga(x, a, b, c):\n",
    "    term1 = 0\n",
    "    if b - a != 0: term1 = (x - a) / (b - a)\n",
    "    term2 = 0\n",
    "    if c - b != 0: term2 = (c - x) / (c - b)\n",
    "    return max(0, min(term1, term2))\n",
    "\n",
    "\n",
    "def fungsi_trapesium(x, a, b, c, d):\n",
    "    term1 = 0\n",
    "    if b - a != 0: term1 = (x - a) / (b - a)\n",
    "    term2 = 0\n",
    "    if d - c != 0: term2 = (d - x) / (d - c)\n",
    "    return max(0, min(term1, 1, term2))"
   ]
  },
  {
   "cell_type": "code",
   "execution_count": 11,
   "id": "46ea2b6b",
   "metadata": {},
   "outputs": [],
   "source": [
    "# Fuzifikasi untuk setiap variabel input\n",
    "def fuzzify_age(age_val):\n",
    "    return {\n",
    "        'Muda': fungsi_trapesium(age_val, 0, 0, 35, 45),\n",
    "        'ParuhBaya': fungsi_segitiga(age_val, 40, 50, 60),\n",
    "        'Tua': fungsi_trapesium(age_val, 55, 65, 70, 75),\n",
    "        'SangatTua': fungsi_trapesium(age_val, 70, 80, 100, 100)\n",
    "    }\n",
    "\n",
    "def fuzzify_glucose(glucose_val):\n",
    "    return {\n",
    "        'Normal': fungsi_trapesium(glucose_val, 50, 50, 90, 105),\n",
    "        'Perbatasan': fungsi_segitiga(glucose_val, 100, 115, 130),\n",
    "        'Tinggi': fungsi_trapesium(glucose_val, 120, 140, 272, 272)\n",
    "    }\n",
    "\n",
    "def fuzzify_bmi(bmi_val):\n",
    "    return {\n",
    "        'Kurus': fungsi_trapesium(bmi_val, 10, 10, 17, 18.5),\n",
    "        'Normal': fungsi_trapesium(bmi_val, 17.5, 18.5, 24, 25.5),\n",
    "        'Berlebih': fungsi_segitiga(bmi_val, 24.5, 27.5, 31),\n",
    "        'Obesitas': fungsi_trapesium(bmi_val, 29, 32, 98, 100)\n",
    "    }"
   ]
  },
  {
   "cell_type": "code",
   "execution_count": 12,
   "id": "bcac8f69",
   "metadata": {},
   "outputs": [],
   "source": [
    "# Output Linguistik dan Fungsi Keanggotaan Output\n",
    "def fuzzify_output_risk(x):\n",
    "    return {\n",
    "        'SangatRendah': fungsi_trapesium(x, 0, 0, 15, 30),\n",
    "        'Rendah': fungsi_segitiga(x, 25, 40, 55),\n",
    "        'Sedang': fungsi_segitiga(x, 50, 65, 80),\n",
    "        'Tinggi': fungsi_trapesium(x, 75, 90, 100, 100)\n",
    "    }"
   ]
  },
  {
   "cell_type": "code",
   "execution_count": 13,
   "id": "1ec7d502",
   "metadata": {},
   "outputs": [],
   "source": [
    "# Aturan Fuzzy Mamdani\n",
    "def apply_rules_mamdani(age_fuzzy, glucose_fuzzy, bmi_fuzzy, hypertension, heart_disease):\n",
    "    rules = [\n",
    "        # Aturan dasar\n",
    "        ('SangatTua', 'Tinggi',     'Obesitas', 'Tinggi'),\n",
    "        ('Tua',       'Tinggi',     'Obesitas', 'Tinggi'),\n",
    "        ('SangatTua', 'Tinggi',     'Berlebih', 'Tinggi'),\n",
    "        ('SangatTua', 'Perbatasan', 'Obesitas', 'Tinggi'),\n",
    "        ('Tua',       'Tinggi',     'Berlebih', 'Sedang'),\n",
    "        ('Tua',       'Perbatasan', 'Obesitas', 'Sedang'),\n",
    "        ('ParuhBaya', 'Tinggi',     'Obesitas', 'Sedang'),\n",
    "        ('SangatTua', 'Normal',     'Normal',   'Sedang'),\n",
    "        ('Tua',       'Tinggi',     'Normal',   'Sedang'),\n",
    "        ('Tua',       'Normal',     'Obesitas', 'Rendah'),\n",
    "        ('ParuhBaya', 'Tinggi',     'Berlebih', 'Rendah'),\n",
    "        ('Muda',      'Tinggi',     'Obesitas', 'Rendah'),\n",
    "        ('Tua',       'Normal',     'Normal',   'Rendah'),\n",
    "        ('ParuhBaya', 'Normal',     'Normal',   'SangatRendah'),\n",
    "        ('Muda',      'Normal',     'Normal',   'SangatRendah'),\n",
    "    ]\n",
    "\n",
    "    # Logika peningkat risiko\n",
    "    risk_upgrade_1 = {'SangatRendah': 'Rendah', 'Rendah': 'Sedang', 'Sedang': 'Tinggi', 'Tinggi': 'Tinggi'}\n",
    "    risk_upgrade_2 = {'SangatRendah': 'Sedang', 'Rendah': 'Tinggi', 'Sedang': 'Tinggi', 'Tinggi': 'Tinggi'}\n",
    "\n",
    "    output_membership = {label: [] for label in fuzzify_output_risk(0).keys()}\n",
    "\n",
    "    for age_label, glucose_label, bmi_label, out_label_base in rules:\n",
    "        w = min(age_fuzzy[age_label], glucose_fuzzy[glucose_label], bmi_fuzzy[bmi_label])\n",
    "        \n",
    "        final_out_label = out_label_base\n",
    "        num_conditions = hypertension + heart_disease\n",
    "        if num_conditions == 1:\n",
    "            final_out_label = risk_upgrade_1[out_label_base]\n",
    "        elif num_conditions == 2:\n",
    "            final_out_label = risk_upgrade_2[out_label_base]\n",
    "        \n",
    "        output_membership[final_out_label].append(w)\n",
    "    \n",
    "    return {k: max(v) if v else 0 for k, v in output_membership.items()}\n"
   ]
  },
  {
   "cell_type": "code",
   "execution_count": 14,
   "id": "60f7af92",
   "metadata": {},
   "outputs": [],
   "source": [
    "# Defuzzifikasi Mamdani\n",
    "def defuzzify_mamdani(output_membership):\n",
    "    x = np.linspace(0, 100, 101) \n",
    "    aggregated = np.zeros_like(x)\n",
    "    for label, degree in output_membership.items():\n",
    "        if degree > 0:\n",
    "            mf = np.array([fuzzify_output_risk(xi)[label] for xi in x])\n",
    "            aggregated = np.maximum(aggregated, np.minimum(degree, mf))\n",
    "    if aggregated.sum() == 0:\n",
    "        return 0\n",
    "    return np.sum(x * aggregated) / np.sum(aggregated)"
   ]
  },
  {
   "cell_type": "code",
   "execution_count": 15,
   "id": "097d11eb",
   "metadata": {},
   "outputs": [],
   "source": [
    "# Prediksi satu baris\n",
    "def predict_stroke_risk_mamdani(input_data):\n",
    "    age_fuzzy = fuzzify_age(input_data['age'])\n",
    "    glucose_fuzzy = fuzzify_glucose(input_data['avg_glucose_level'])\n",
    "    bmi_fuzzy = fuzzify_bmi(input_data['bmi'])\n",
    "    output_membership = apply_rules_mamdani(\n",
    "        age_fuzzy, glucose_fuzzy, bmi_fuzzy,\n",
    "        input_data['hypertension'], input_data['heart_disease']\n",
    "    )\n",
    "    return defuzzify_mamdani(output_membership)"
   ]
  },
  {
   "cell_type": "markdown",
   "id": "d1928319",
   "metadata": {},
   "source": [
    "# Uji Evaluasi Model Mamdani"
   ]
  },
  {
   "cell_type": "code",
   "execution_count": 16,
   "id": "6807c63c",
   "metadata": {},
   "outputs": [
    {
     "name": "stdout",
     "output_type": "stream",
     "text": [
      "=== Evaluasi Fuzzy Mamdani ===\n",
      "Akurasi   : 0.9381\n",
      "F1-score  : 0.0186\n",
      "Precision : 0.0411\n",
      "Recall    : 0.0120\n"
     ]
    }
   ],
   "source": [
    "from sklearn.metrics import accuracy_score, f1_score, precision_score, recall_score\n",
    "\n",
    "# Load dataset yang telah diproses\n",
    "df = pd.read_csv('stroke_preprocessed_for_fuzzy.csv')\n",
    "\n",
    "def predict_row(row):\n",
    "    input_data = {\n",
    "        'age': row['age'],\n",
    "        'avg_glucose_level': row['avg_glucose_level'],\n",
    "        'bmi': row['bmi'],\n",
    "        'hypertension': row['hypertension'],\n",
    "        'heart_disease': row['heart_disease']\n",
    "    }\n",
    "    return predict_stroke_risk_mamdani(input_data)\n",
    "\n",
    "# Menghitung skor risiko stroke menggunakan Fuzzy Mamdani\n",
    "df['mamdani_risk_score'] = df.apply(predict_row, axis=1)\n",
    "\n",
    "# Menggunakan threshold 0.5 untuk klasifikasi\n",
    "df['mamdani_pred'] = (df['mamdani_risk_score'] >= 0.5).astype(int)\n",
    "\n",
    "# Mengambil label target dari dataset sebenarnya dan hasil prediksi\n",
    "y_true = df['stroke']\n",
    "\n",
    "# Mengambil thereshold optimal menggunakan F1-score\n",
    "thresholds = np.arange(1, 100, 1) \n",
    "f1_scores = [f1_score(y_true, (df['mamdani_risk_score'] >= thresh).astype(int), zero_division=0) for thresh in thresholds]\n",
    "optimal_idx = np.argmax(f1_scores)\n",
    "\n",
    "# Menentukan threshold optimal\n",
    "optimal_threshold = thresholds[optimal_idx]\n",
    "\n",
    "y_pred_optimal = (df['mamdani_risk_score'] >= optimal_threshold).astype(int)\n",
    "\n",
    "# Evaluasi model\n",
    "acc = accuracy_score(y_true, y_pred_optimal)\n",
    "f1 = f1_score(y_true, y_pred_optimal, zero_division=0)\n",
    "precision = precision_score(y_true, y_pred_optimal, zero_division=0)\n",
    "recall = recall_score(y_true, y_pred_optimal, zero_division=0)\n",
    "\n",
    "print(\"=== Evaluasi Fuzzy Mamdani ===\")\n",
    "print(f\"Akurasi   : {acc:.4f}\")\n",
    "print(f\"F1-score  : {f1:.4f}\")\n",
    "print(f\"Precision : {precision:.4f}\")\n",
    "print(f\"Recall    : {recall:.4f}\")"
   ]
  },
  {
   "cell_type": "code",
   "execution_count": null,
   "id": "d790c92d",
   "metadata": {},
   "outputs": [],
   "source": []
  }
 ],
 "metadata": {
  "kernelspec": {
   "display_name": "base",
   "language": "python",
   "name": "python3"
  },
  "language_info": {
   "codemirror_mode": {
    "name": "ipython",
    "version": 3
   },
   "file_extension": ".py",
   "mimetype": "text/x-python",
   "name": "python",
   "nbconvert_exporter": "python",
   "pygments_lexer": "ipython3",
   "version": "3.12.7"
  }
 },
 "nbformat": 4,
 "nbformat_minor": 5
}
